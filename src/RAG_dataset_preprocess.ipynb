{
 "cells": [
  {
   "cell_type": "code",
   "execution_count": null,
   "metadata": {},
   "outputs": [
    {
     "name": "stdout",
     "output_type": "stream",
     "text": [
      "✅ 提取完成，共 787 条评论，已保存到 /Users/larissa/Desktop/ecs260000/src/../dataset/RAG_process/1.txt\n"
     ]
    }
   ],
   "source": [
    "import os\n",
    "import xml.etree.ElementTree as ET\n",
    "\n",
    "current_dir = os.path.dirname(os.path.abspath(\"__file__\"))  \n",
    "\n",
    "input_xml_path = os.path.join(current_dir, \"../dataset/RAG_origin/1.xml\")  \n",
    "output_txt_path = os.path.join(current_dir, \"../dataset/RAG_process/1.txt\") \n",
    "\n",
    "def extract_text_from_xml(input_xml, output_txt):\n",
    "    texts = []\n",
    "    \n",
    "    for event, elem in ET.iterparse(input_xml, events=('end',)):\n",
    "        if elem.tag == 'row': \n",
    "            text = elem.attrib.get('Text', '').strip() \n",
    "            if text:  \n",
    "                texts.append(text)\n",
    "        elem.clear()  \n",
    "\n",
    "    os.makedirs(os.path.dirname(output_txt), exist_ok=True)\n",
    "\n",
    "    with open(output_txt, 'w', encoding='utf-8') as f:\n",
    "        for line in texts:\n",
    "            f.write(line + '\\n\\n')\n",
    "\n",
    "    print(f\"total comments lines: {len(texts)}. its save to {output_txt}\")\n",
    "\n",
    "extract_text_from_xml(input_xml_path, output_txt_path)\n"
   ]
  },
  {
   "cell_type": "code",
   "execution_count": null,
   "metadata": {},
   "outputs": [
    {
     "name": "stdout",
     "output_type": "stream",
     "text": [
      "/opt/homebrew/opt/python@3.10/bin/python3.10\n"
     ]
    }
   ],
   "source": [
    "import sys\n",
    "print(sys.executable)\n"
   ]
  }
 ],
 "metadata": {
  "kernelspec": {
   "display_name": "Python 3",
   "language": "python",
   "name": "python3"
  },
  "language_info": {
   "codemirror_mode": {
    "name": "ipython",
    "version": 3
   },
   "file_extension": ".py",
   "mimetype": "text/x-python",
   "name": "python",
   "nbconvert_exporter": "python",
   "pygments_lexer": "ipython3",
   "version": "3.10.16"
  }
 },
 "nbformat": 4,
 "nbformat_minor": 2
}
