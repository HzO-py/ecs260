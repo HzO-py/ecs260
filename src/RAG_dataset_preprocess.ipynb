{
 "cells": [
  {
   "cell_type": "code",
   "execution_count": null,
   "metadata": {},
   "outputs": [
    {
     "ename": "ModuleNotFoundError",
     "evalue": "No module named 'pandas'",
     "output_type": "error",
     "traceback": [
      "\u001b[0;31m---------------------------------------------------------------------------\u001b[0m",
      "\u001b[0;31mModuleNotFoundError\u001b[0m                       Traceback (most recent call last)",
      "Cell \u001b[0;32mIn[7], line 2\u001b[0m\n\u001b[1;32m      1\u001b[0m \u001b[38;5;28;01mimport\u001b[39;00m \u001b[38;5;21;01mxml\u001b[39;00m\u001b[38;5;21;01m.\u001b[39;00m\u001b[38;5;21;01metree\u001b[39;00m\u001b[38;5;21;01m.\u001b[39;00m\u001b[38;5;21;01mElementTree\u001b[39;00m \u001b[38;5;28;01mas\u001b[39;00m \u001b[38;5;21;01mET\u001b[39;00m\n\u001b[0;32m----> 2\u001b[0m \u001b[38;5;28;01mimport\u001b[39;00m \u001b[38;5;21;01mpandas\u001b[39;00m \u001b[38;5;28;01mas\u001b[39;00m \u001b[38;5;21;01mpd\u001b[39;00m\n\u001b[1;32m      4\u001b[0m \u001b[38;5;28;01mdef\u001b[39;00m \u001b[38;5;21mparse_posts_xml\u001b[39m(file_path, limit\u001b[38;5;241m=\u001b[39m\u001b[38;5;241m100000\u001b[39m):\n\u001b[1;32m      5\u001b[0m     questions \u001b[38;5;241m=\u001b[39m []\n",
      "\u001b[0;31mModuleNotFoundError\u001b[0m: No module named 'pandas'"
     ]
    }
   ],
   "source": [
    "import xml.etree.ElementTree as ET\n",
    "print(\"print\")\n",
    "import pandas as pd\n",
    "\n",
    "def parse_posts_xml(file_path, limit=100000):\n",
    "    questions = []\n",
    "    answers = []\n",
    "    print(\"work\")\n",
    "    \n",
    "    for i, event, elem in enumerate(ET.iterparse(file_path, events=('end',))):\n",
    "        if elem.tag == 'row':\n",
    "            post_type = elem.attrib.get('PostTypeId')\n",
    "            if post_type == '1':  # Question\n",
    "                questions.append({\n",
    "                    'Id': elem.attrib.get('Id'),\n",
    "                    'Title': elem.attrib.get('Title', ''),\n",
    "                    'Body': elem.attrib.get('Body', '')\n",
    "                })\n",
    "            elif post_type == '2':  # Answer\n",
    "                answers.append({\n",
    "                    'ParentId': elem.attrib.get('ParentId'),\n",
    "                    'Body': elem.attrib.get('Body', '')\n",
    "                })\n",
    "        if i >= limit:  # limit for faster prototyping\n",
    "            break\n",
    "        elem.clear()\n",
    "    return pd.DataFrame(questions), pd.DataFrame(answers)\n",
    "\n",
    "questions_df, answers_df = parse_posts_xml('Posts.xml')"
   ]
  },
  {
   "cell_type": "code",
   "execution_count": null,
   "metadata": {},
   "outputs": [
    {
     "name": "stdout",
     "output_type": "stream",
     "text": [
      "/opt/homebrew/opt/python@3.10/bin/python3.10\n"
     ]
    }
   ],
   "source": [
    "import sys\n",
    "print(sys.executable)\n"
   ]
  }
 ],
 "metadata": {
  "kernelspec": {
   "display_name": "Python 3",
   "language": "python",
   "name": "python3"
  },
  "language_info": {
   "codemirror_mode": {
    "name": "ipython",
    "version": 3
   },
   "file_extension": ".py",
   "mimetype": "text/x-python",
   "name": "python",
   "nbconvert_exporter": "python",
   "pygments_lexer": "ipython3",
   "version": "3.10.16"
  }
 },
 "nbformat": 4,
 "nbformat_minor": 2
}
